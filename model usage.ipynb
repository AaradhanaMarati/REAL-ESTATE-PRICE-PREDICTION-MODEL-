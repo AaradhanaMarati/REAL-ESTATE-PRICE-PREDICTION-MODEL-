{
 "cells": [
  {
   "cell_type": "code",
   "execution_count": 5,
   "id": "3cd3c002-434f-423d-aa77-d15755f82b88",
   "metadata": {},
   "outputs": [],
   "source": [
    "from joblib import load\n",
    "import numpy as np\n",
    "model = load('DRAGON.joblib')"
   ]
  },
  {
   "cell_type": "code",
   "execution_count": 8,
   "id": "91111171-3bb3-4edc-8895-ead4c7a8ddb2",
   "metadata": {},
   "outputs": [
    {
     "data": {
      "text/plain": [
       "array([21.997])"
      ]
     },
     "execution_count": 8,
     "metadata": {},
     "output_type": "execute_result"
    }
   ],
   "source": [
    "features = np.array([[-0.44216686,  3.12629369, -1.12248241, -0.27288841, -1.42320746,\n",
    "       -8.218409, -1.31208759,  2.61129834, -1.00661099, -0.58226345,\n",
    "       -0.97460646,  0.41380164, -0.86477399]])\n",
    "model.predict(features)"
   ]
  },
  {
   "cell_type": "code",
   "execution_count": null,
   "id": "1c2c4bd4-c51b-4b0b-8441-93d5d8ae67c5",
   "metadata": {},
   "outputs": [],
   "source": []
  }
 ],
 "metadata": {
  "kernelspec": {
   "display_name": "Python 3 (ipykernel)",
   "language": "python",
   "name": "python3"
  },
  "language_info": {
   "codemirror_mode": {
    "name": "ipython",
    "version": 3
   },
   "file_extension": ".py",
   "mimetype": "text/x-python",
   "name": "python",
   "nbconvert_exporter": "python",
   "pygments_lexer": "ipython3",
   "version": "3.11.3"
  }
 },
 "nbformat": 4,
 "nbformat_minor": 5
}
